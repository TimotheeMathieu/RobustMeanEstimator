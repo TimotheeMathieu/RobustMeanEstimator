{
 "cells": [
  {
   "cell_type": "code",
   "execution_count": 1,
   "metadata": {},
   "outputs": [],
   "source": [
    "from robust_mean import M_estimator\n",
    "import numpy as np\n",
    "import time\n",
    "import matplotlib.pyplot as plt\n",
    "from neurtu import timeit, delayed  "
   ]
  },
  {
   "cell_type": "code",
   "execution_count": 2,
   "metadata": {},
   "outputs": [
    {
     "name": "stdout",
     "output_type": "stream",
     "text": [
      "0.1528162956237793\n"
     ]
    }
   ],
   "source": [
    "a = time.time()\n",
    "mest = M_estimator(1)\n",
    "X = np.random.normal(size=[1000,1000])\n",
    "result = mest.estimate(X)\n",
    "print(time.time()-a)"
   ]
  },
  {
   "cell_type": "code",
   "execution_count": 3,
   "metadata": {},
   "outputs": [
    {
     "name": "stdout",
     "output_type": "stream",
     "text": [
      "0.9795568706509863\n"
     ]
    }
   ],
   "source": [
    "print(np.linalg.norm(result))"
   ]
  },
  {
   "cell_type": "markdown",
   "metadata": {},
   "source": [
    "# 2D Illustration"
   ]
  },
  {
   "cell_type": "code",
   "execution_count": 4,
   "metadata": {},
   "outputs": [],
   "source": [
    "N = 60 # Sample size\n",
    "name = 'Huber'\n",
    "epsilon = 0.1\n",
    "center = [20, -1]\n",
    "\n",
    "np.random.seed(2020)\n",
    "\n",
    "# Sample dataset from a skewed distribution.\n",
    "X = np.vstack([np.random.normal(size= [3*N//4,2]), \n",
    "              3+np.random.normal(size= [(N//4),2])])\n",
    "\n",
    "# Contaminate with outliers\n",
    "for f in np.arange(int(len(X)*epsilon)):\n",
    "    X[f] = np.random.normal(size=2)+np.array(center)\n"
   ]
  },
  {
   "cell_type": "code",
   "execution_count": 5,
   "metadata": {},
   "outputs": [
    {
     "data": {
      "image/png": "[encoded data removed]",
      "text/plain": [
       "<Figure size 1080x360 with 2 Axes>"
      ]
     },
     "metadata": {
      "needs_background": "light"
     },
     "output_type": "display_data"
    }
   ],
   "source": [
    "fig, ax = plt.subplots(figsize=(15,5))\n",
    "\n",
    "# define the estimators\n",
    "estimated_values = []\n",
    "for beta in np.logspace(-4,4):\n",
    "    estimator = M_estimator(beta, name, p=4)\n",
    "    estimated_values += [estimator.estimate(X)]\n",
    "\n",
    "plt.scatter(X[:,0],X[:,1],alpha = 0.4, c='b')    \n",
    "im = plt.scatter(np.array(estimated_values)[:,0], \n",
    "            np.array(estimated_values)[:,1], \n",
    "            cmap = plt.get_cmap('Reds'), \n",
    "            c = np.linspace(-4,4), alpha = 0.7)\n",
    "cbar = fig.colorbar(im, ax=ax)\n",
    "cbar.set_label('log of Value of Beta')\n",
    "\n",
    "\n",
    "ax.set_title('Scatter plot of dataset (in blue) and estimated mean (in red).'\n",
    "             ' One red point is one value estimated with the associated Beta.')\n",
    "\n",
    "plt.show()"
   ]
  },
  {
   "cell_type": "markdown",
   "metadata": {},
   "source": [
    "# Heavy tail illustration"
   ]
  },
  {
   "cell_type": "code",
   "execution_count": 6,
   "metadata": {},
   "outputs": [],
   "source": [
    "def multivariate_t(m, df, n):\n",
    "    d = len(m)\n",
    "    x = np.random.chisquare(df, n)/df\n",
    "    z = np.random.multivariate_normal(np.zeros(d),np.eye(d),size=n)\n",
    "    res = m + z/np.sqrt(x)[:,np.newaxis] \n",
    "    return res\n",
    "\n",
    "def projected_t(m, df, n):\n",
    "    X = multivariate_t(m, df, n)\n",
    "    X = np.abs(X)\n",
    "    return X\n",
    "\n",
    "\n",
    "def two_mode_t(m1, m2, df, n):\n",
    "    X1 = multivariate_t(m1, df, n)\n",
    "    X2 = multivariate_t(m2, df, n)\n",
    "    binom = np.random.binomial(1, 0.7, size=n)\n",
    "    res = np.zeros(X1.shape)\n",
    "    res[binom == 1] = X1[binom == 1]\n",
    "    res[binom == 0] = X2[binom == 0]\n",
    "    return res\n",
    "\n",
    "def pareto(df, n, d):\n",
    "    return (np.random.pareto(df, size=[n,d])+1)"
   ]
  },
  {
   "cell_type": "markdown",
   "metadata": {},
   "source": [
    "## Plot of a sample in 2D"
   ]
  },
  {
   "cell_type": "code",
   "execution_count": 7,
   "metadata": {},
   "outputs": [
    {
     "data": {
      "text/plain": [
       "<matplotlib.collections.PathCollection at 0x7fe4048213a0>"
      ]
     },
     "execution_count": 7,
     "metadata": {},
     "output_type": "execute_result"
    },
    {
     "data": {
      "image/png": "[encoded data removed]",
      "text/plain": [
       "<Figure size 432x288 with 1 Axes>"
      ]
     },
     "metadata": {
      "needs_background": "light"
     },
     "output_type": "display_data"
    }
   ],
   "source": [
    "d = 2\n",
    "X = pareto(3, 1000, d)\n",
    "plt.scatter(X[:,0],X[:,1])"
   ]
  },
  {
   "cell_type": "markdown",
   "metadata": {},
   "source": [
    "## Error of various mean estimators for growing dimension"
   ]
  },
  {
   "cell_type": "markdown",
   "metadata": {},
   "source": [
    "### Finite Variance"
   ]
  },
  {
   "cell_type": "code",
   "execution_count": 9,
   "metadata": {},
   "outputs": [
    {
     "name": "stdout",
     "output_type": "stream",
     "text": [
      " 24"
     ]
    }
   ],
   "source": [
    "n = 1000\n",
    "Ds = np.arange(10, 1000, 50)\n",
    "M = 25\n",
    "res = np.zeros([M, len(Ds), 4])\n",
    "for m in range(M):\n",
    "    print('\\r '+str(m), end='')\n",
    "    for i, d in enumerate(Ds):\n",
    "        X = pareto(2.1, n, d)\n",
    "        mean = 2.1/1.1*np.ones(d)\n",
    "        est_h = M_estimator(d**(1/2), \"Huber\")\n",
    "        est_c = M_estimator(0.5*d**(1/2), \"Catoni\")\n",
    "        est_p = M_estimator(0.7*d**(1/2), \"Polynomial\", p=3)\n",
    "        res[m, i] = [np.linalg.norm(np.mean(X, axis=0)-mean),\n",
    "                np.linalg.norm(est_h.estimate(X)-mean),\n",
    "                np.linalg.norm(est_c.estimate(X)-mean),\n",
    "                np.linalg.norm(est_p.estimate(X)-mean)]"
   ]
  },
  {
   "cell_type": "code",
   "execution_count": 10,
   "metadata": {},
   "outputs": [
    {
     "data": {
      "text/plain": [
       "<matplotlib.legend.Legend at 0x7fe40471c4f0>"
      ]
     },
     "execution_count": 10,
     "metadata": {},
     "output_type": "execute_result"
    },
    {
     "data": {
      "image/png": "[encoded data removed]",
      "text/plain": [
       "<Figure size 432x288 with 1 Axes>"
      ]
     },
     "metadata": {
      "needs_background": "light"
     },
     "output_type": "display_data"
    }
   ],
   "source": [
    "res = np.array(res)\n",
    "resplot = np.mean(res, axis=0)\n",
    "plt.plot(Ds, resplot[:,0], label='Mean')\n",
    "plt.plot(Ds, resplot[:,1], label='Huber M-est.', linestyle='-.')\n",
    "plt.plot(Ds, resplot[:,2], label='Catoni M-est.', linestyle='--')\n",
    "plt.plot(Ds, resplot[:,3], label='Poly M-est.', linestyle='solid')\n",
    "plt.xlabel('d')\n",
    "plt.ylabel('error')\n",
    "plt.legend()"
   ]
  },
  {
   "cell_type": "markdown",
   "metadata": {},
   "source": [
    "### Infinite Variance"
   ]
  },
  {
   "cell_type": "code",
   "execution_count": 16,
   "metadata": {},
   "outputs": [
    {
     "name": "stdout",
     "output_type": "stream",
     "text": [
      " 24"
     ]
    }
   ],
   "source": [
    "Ds = np.arange(10, 1000, 50)\n",
    "res = np.zeros([M, len(Ds), 4])\n",
    "from sklearn.ensemble import IsolationForest\n",
    "\n",
    "def isol_est(x):\n",
    "    clf = IsolationForest(contamination = 0.05).fit(X)\n",
    "    inliers = clf.predict(X)\n",
    "    return np.mean(X[inliers == 1], axis=0)\n",
    "\n",
    "for m in range(M):\n",
    "    print('\\r '+str(m), end='')\n",
    "    for i, d in enumerate(Ds):\n",
    "        X = pareto(1.1, n, d)\n",
    "        mean = 1.1/0.1*np.ones(d)\n",
    "        est_h = M_estimator(d**(1/2), \"Huber\")\n",
    "        est_c = M_estimator(0.5*d**(1/2), \"Catoni\")\n",
    "        est_p = M_estimator(0.7*d**(1/2), \"Polynomial\", p=10)\n",
    "        res[m, i] = [np.linalg.norm(np.mean(X, axis=0)-mean),\n",
    "                np.linalg.norm(est_h.estimate(X)-mean),\n",
    "                np.linalg.norm(est_c.estimate(X)-mean),\n",
    "                np.linalg.norm(est_p.estimate(X)-mean)]"
   ]
  },
  {
   "cell_type": "code",
   "execution_count": 17,
   "metadata": {},
   "outputs": [
    {
     "data": {
      "text/plain": [
       "<matplotlib.legend.Legend at 0x7fe4043d87c0>"
      ]
     },
     "execution_count": 17,
     "metadata": {},
     "output_type": "execute_result"
    },
    {
     "data": {
      "image/png": "[encoded data removed]",
      "text/plain": [
       "<Figure size 432x288 with 1 Axes>"
      ]
     },
     "metadata": {
      "needs_background": "light"
     },
     "output_type": "display_data"
    }
   ],
   "source": [
    "res = np.array(res)\n",
    "\n",
    "resplot = np.mean(res, axis=0)\n",
    "plt.plot(Ds, resplot[:,0], label='Mean')\n",
    "plt.plot(Ds, resplot[:,1], label='Huber M-est.', linestyle='-.')\n",
    "plt.plot(Ds, resplot[:,2], label='Catoni M-est.', linestyle='--')\n",
    "plt.plot(Ds, resplot[:,3], label='Poly M-est.', linestyle='solid')\n",
    "\n",
    "plt.xlabel('d')\n",
    "plt.ylabel('error')\n",
    "plt.legend()"
   ]
  },
  {
   "cell_type": "markdown",
   "metadata": {},
   "source": [
    "## VS isolation forest + empirical mean, n=6000, d = 2000"
   ]
  },
  {
   "cell_type": "code",
   "execution_count": 18,
   "metadata": {},
   "outputs": [],
   "source": [
    "n = 6000\n",
    "d = 2000"
   ]
  },
  {
   "cell_type": "code",
   "execution_count": 28,
   "metadata": {},
   "outputs": [],
   "source": [
    "def isol_mean(x):\n",
    "    # compute the mean after an isolation forest pre-processing.\n",
    "    clf = IsolationForest(contamination=0.1).fit(x)\n",
    "    return np.mean(X[clf.predict(x)==1], axis=0)"
   ]
  },
  {
   "cell_type": "markdown",
   "metadata": {},
   "source": [
    "### Finite Variance"
   ]
  },
  {
   "cell_type": "code",
   "execution_count": 29,
   "metadata": {},
   "outputs": [],
   "source": [
    "mean = 2.1/1.1*np.ones(d)    \n",
    "res = []\n",
    "med = M_estimator(0, 'Huber')\n",
    "\n",
    "for _ in range(M):\n",
    "    X = pareto(2.1, n, d)\n",
    "    mesth = M_estimator(3*np.sqrt(d), 'Huber')\n",
    "    mestc = M_estimator(np.sqrt(d), 'Catoni')\n",
    "    mestp = M_estimator(np.sqrt(d), 'Polynomial', p=2)\n",
    "\n",
    "\n",
    "    res += [[\n",
    "        np.linalg.norm(np.mean(X, axis=0)-mean),\n",
    "        np.linalg.norm(np.median(X, axis=0)-mean),\n",
    "        np.linalg.norm(mesth.estimate(X)-mean),\n",
    "        np.linalg.norm(mestc.estimate(X)-mean),\n",
    "        np.linalg.norm(mestp.estimate(X)-mean),\n",
    "        np.linalg.norm(isol_est(X)-mean),\n",
    "    ]]"
   ]
  },
  {
   "cell_type": "code",
   "execution_count": 30,
   "metadata": {},
   "outputs": [
    {
     "name": "stdout",
     "output_type": "stream",
     "text": [
      "Mean has mean error 1.75 and std error 0.19\n",
      "median has mean error 23.17 and std error 0.01\n",
      "Huber has mean error 1.32 and std error 0.02\n",
      "Catoni has mean error 1.35 and std error 0.02\n",
      "Polynomial has mean error 1.37 and std error 0.02\n",
      "Isolation Forest has mean error 1.75 and std error 0.19\n"
     ]
    }
   ],
   "source": [
    "res = np.array(res)\n",
    "estimators = ['Mean', 'median', 'Huber', 'Catoni', 'Polynomial', 'Isolation Forest']\n",
    "for i, est in enumerate(estimators):\n",
    "    print(est+ ' has mean error %.2F and std error %.2f' %(np.mean(res[:,i]), np.std(res[:,i])))"
   ]
  },
  {
   "cell_type": "code",
   "execution_count": 32,
   "metadata": {},
   "outputs": [
    {
     "data": {
      "application/vnd.jupyter.widget-view+json": {
       "model_id": "",
       "version_major": 2,
       "version_minor": 0
      },
      "text/plain": [
       "  0%|          | 0/21 [00:00<?, ?it/s]"
      ]
     },
     "metadata": {},
     "output_type": "display_data"
    },
    {
     "name": "stdout",
     "output_type": "stream",
     "text": [
      "            wall_time                     \n",
      "                 mean        max       std\n",
      "name                                      \n",
      "Catoni       3.824839   4.043172  0.285254\n",
      "Huber        1.985695   2.205263  0.213629\n",
      "Mean         0.006077   0.006362  0.000285\n",
      "Median       0.175509   0.181783  0.005549\n",
      "Polynomial   2.861168   3.212091  0.323687\n",
      "geo Med      2.661271   2.775447  0.105479\n",
      "isolation   12.960636  13.768707  0.701481\n"
     ]
    }
   ],
   "source": [
    "X = pareto(2.1, n, d)\n",
    "\n",
    "# Benchmark the time needed to compute each algorithm.\n",
    "bench = [\n",
    "    delayed(\n",
    "        M_estimator(1000*np.sqrt(d), name=\"Huber\"),\n",
    "        tags={\"name\": 'Huber'},\n",
    "    ).estimate(X),\n",
    "    delayed(\n",
    "        M_estimator(0, name=\"Huber\"),\n",
    "        tags={\"name\": 'geo Med'},\n",
    "    ).estimate(X),\n",
    "    delayed(\n",
    "        M_estimator(300*np.sqrt(d), name=\"Catoni\"),\n",
    "        tags={\"name\": 'Catoni'},\n",
    "    ).estimate(X),\n",
    "    delayed(\n",
    "        M_estimator(1000*np.sqrt(d), p = 8, name=\"Polynomial\"),\n",
    "        tags={\"name\": 'Polynomial'},\n",
    "    ).estimate(X),\n",
    "    delayed(\n",
    "        lambda x : np.mean(x, axis=0),\n",
    "        tags={\"name\": 'Mean'},\n",
    "    )(X),\n",
    "    delayed(\n",
    "        lambda x : np.median(x, axis=0),\n",
    "        tags={\"name\": 'Median'},\n",
    "    )(X),\n",
    "    delayed(isol_mean,\n",
    "        tags = {'name': 'isolation'}\n",
    "    )(X)\n",
    "]\n",
    "\n",
    "bench = timeit(bench, repeat=3)\n",
    "print(bench)"
   ]
  },
  {
   "cell_type": "markdown",
   "metadata": {},
   "source": [
    "### Infinite Variance"
   ]
  },
  {
   "cell_type": "code",
   "execution_count": 33,
   "metadata": {},
   "outputs": [],
   "source": [
    "mean = 1.1/0.1*np.ones(d)    \n",
    "res = []\n",
    "med = M_estimator(0, 'Huber')\n",
    "\n",
    "for _ in range(M):\n",
    "    X = pareto(1.1, n, d)\n",
    "    mesth = M_estimator(3*np.sqrt(d), 'Huber')\n",
    "    mestc = M_estimator(np.sqrt(d), 'Catoni')\n",
    "    mestp = M_estimator(np.sqrt(d), 'Polynomial', p=2)\n",
    "\n",
    "\n",
    "    res += [[\n",
    "        np.linalg.norm(np.mean(X, axis=0)-mean),\n",
    "        np.linalg.norm(np.median(X, axis=0)-mean),\n",
    "        np.linalg.norm(mesth.estimate(X)-mean),\n",
    "        np.linalg.norm(mestc.estimate(X)-mean),\n",
    "        np.linalg.norm(mestp.estimate(X)-mean),\n",
    "        np.linalg.norm(isol_est(X)-mean),\n",
    "    ]]"
   ]
  },
  {
   "cell_type": "code",
   "execution_count": 34,
   "metadata": {},
   "outputs": [
    {
     "name": "stdout",
     "output_type": "stream",
     "text": [
      "Mean has mean error 1109.81 and std error 1168.70\n",
      "median has mean error 407.94 and std error 0.02\n",
      "Huber has mean error 226.66 and std error 0.68\n",
      "Catoni has mean error 216.73 and std error 0.69\n",
      "Polynomial has mean error 203.08 and std error 1.27\n",
      "Isolation Forest has mean error 1109.97 and std error 1168.91\n"
     ]
    }
   ],
   "source": [
    "res = np.array(res)\n",
    "estimators = ['Mean', 'median', 'Huber', 'Catoni', 'Polynomial', 'Isolation Forest']\n",
    "for i, est in enumerate(estimators):\n",
    "    print(est+ ' has mean error %.2F and std error %.2f' %(np.mean(res[:,i]), np.std(res[:,i])))"
   ]
  },
  {
   "cell_type": "code",
   "execution_count": 35,
   "metadata": {},
   "outputs": [
    {
     "data": {
      "application/vnd.jupyter.widget-view+json": {
       "model_id": "",
       "version_major": 2,
       "version_minor": 0
      },
      "text/plain": [
       "  0%|          | 0/21 [00:00<?, ?it/s]"
      ]
     },
     "metadata": {},
     "output_type": "display_data"
    },
    {
     "name": "stdout",
     "output_type": "stream",
     "text": [
      "            wall_time                     \n",
      "                 mean        max       std\n",
      "name                                      \n",
      "Catoni       3.519061   3.606187  0.086681\n",
      "Huber        1.971952   2.045848  0.064595\n",
      "Mean         0.005909   0.005992  0.000080\n",
      "Median       0.171855   0.173745  0.001762\n",
      "Polynomial   2.617636   2.656533  0.039375\n",
      "geo Med      2.454505   2.576359  0.119865\n",
      "isolation   12.912236  13.342797  0.409740\n"
     ]
    }
   ],
   "source": [
    "X = pareto(1.1, n, d)\n",
    "np.random.seed(42)\n",
    "def isol_mean(x):\n",
    "    # compute the mean after an isolation forest pre-processing.\n",
    "    clf = IsolationForest(contamination=0.1).fit(x)\n",
    "    return np.mean(X[clf.predict(x)==1], axis=0)\n",
    "\n",
    "# Benchmark the time needed to compute each algorithm.\n",
    "bench = [\n",
    "    delayed(\n",
    "        M_estimator(1000*np.sqrt(d), name=\"Huber\"),\n",
    "        tags={\"name\": 'Huber'},\n",
    "    ).estimate(X),\n",
    "    delayed(\n",
    "        M_estimator(0, name=\"Huber\"),\n",
    "        tags={\"name\": 'geo Med'},\n",
    "    ).estimate(X),\n",
    "    delayed(\n",
    "        M_estimator(300*np.sqrt(d), name=\"Catoni\"),\n",
    "        tags={\"name\": 'Catoni'},\n",
    "    ).estimate(X),\n",
    "    delayed(\n",
    "        M_estimator(1000*np.sqrt(d), p = 8, name=\"Polynomial\"),\n",
    "        tags={\"name\": 'Polynomial'},\n",
    "    ).estimate(X),\n",
    "    delayed(\n",
    "        lambda x : np.mean(x, axis=0),\n",
    "        tags={\"name\": 'Mean'},\n",
    "    )(X),\n",
    "    delayed(\n",
    "        lambda x : np.median(x, axis=0),\n",
    "        tags={\"name\": 'Median'},\n",
    "    )(X),\n",
    "    delayed(isol_mean,\n",
    "        tags = {'name': 'isolation'}\n",
    "    )(X)\n",
    "]\n",
    "\n",
    "bench = timeit(bench, repeat=3)\n",
    "print(bench)"
   ]
  },
  {
   "cell_type": "code",
   "execution_count": null,
   "metadata": {},
   "outputs": [],
   "source": []
  }
 ],
 "metadata": {
  "kernelspec": {
   "display_name": "Python 3",
   "language": "python",
   "name": "python3"
  },
  "language_info": {
   "codemirror_mode": {
    "name": "ipython",
    "version": 3
   },
   "file_extension": ".py",
   "mimetype": "text/x-python",
   "name": "python",
   "nbconvert_exporter": "python",
   "pygments_lexer": "ipython3",
   "version": "3.9.2"
  }
 },
 "nbformat": 4,
 "nbformat_minor": 4
}
