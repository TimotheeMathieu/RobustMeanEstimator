{
 "cells": [
  {
   "cell_type": "code",
   "execution_count": 1,
   "metadata": {},
   "outputs": [],
   "source": [
    "from robust_mean import M_estimator\n",
    "import numpy as np\n",
    "from scipy.spatial.distance import cdist, euclidean\n",
    "import time\n",
    "import matplotlib.pyplot as plt\n",
    "from neurtu import timeit, delayed  "
   ]
  },
  {
   "cell_type": "code",
   "execution_count": 4,
   "metadata": {},
   "outputs": [
    {
     "name": "stdout",
     "output_type": "stream",
     "text": [
      "0.11174249649047852\n"
     ]
    }
   ],
   "source": [
    "a = time.time()\n",
    "X = np.random.normal(size=[1000,1000])\n",
    "result = M_estimator(X, beta=1)\n",
    "print(time.time()-a)"
   ]
  },
  {
   "cell_type": "code",
   "execution_count": 5,
   "metadata": {},
   "outputs": [
    {
     "name": "stdout",
     "output_type": "stream",
     "text": [
      "1.0155168291969072\n"
     ]
    }
   ],
   "source": [
    "print(np.linalg.norm(result)) # distance to the mean"
   ]
  },
  {
   "cell_type": "markdown",
   "metadata": {},
   "source": [
    "# 2D Illustration"
   ]
  },
  {
   "cell_type": "code",
   "execution_count": 6,
   "metadata": {},
   "outputs": [],
   "source": [
    "N = 60 # Sample size\n",
    "name = 'Huber'\n",
    "epsilon = 0.1\n",
    "center = [20, -1]\n",
    "\n",
    "np.random.seed(2020)\n",
    "\n",
    "# Sample dataset from a skewed distribution.\n",
    "X = np.vstack([np.random.normal(size= [3*N//4,2]), \n",
    "              3+np.random.normal(size= [(N//4),2])])\n",
    "\n",
    "# Contaminate with outliers\n",
    "for f in np.arange(int(len(X)*epsilon)):\n",
    "    X[f] = np.random.normal(size=2)+np.array(center)\n"
   ]
  },
  {
   "cell_type": "code",
   "execution_count": 7,
   "metadata": {},
   "outputs": [
    {
     "data": {
      "image/png": "[encoded data removed]",
      "text/plain": [
       "<Figure size 1080x360 with 2 Axes>"
      ]
     },
     "metadata": {
      "needs_background": "light"
     },
     "output_type": "display_data"
    }
   ],
   "source": [
    "fig, ax = plt.subplots(figsize=(15,5))\n",
    "\n",
    "# define the estimators\n",
    "estimated_values = []\n",
    "for beta in np.logspace(-4,4):\n",
    "    estimated_values += [M_estimator(X, beta, name, p=4)]\n",
    "\n",
    "plt.scatter(X[:,0],X[:,1],alpha = 0.4, c='b')    \n",
    "im = plt.scatter(np.array(estimated_values)[:,0], \n",
    "            np.array(estimated_values)[:,1], \n",
    "            cmap = plt.get_cmap('Reds'), \n",
    "            c = np.linspace(-4,4), alpha = 0.7)\n",
    "cbar = fig.colorbar(im, ax=ax)\n",
    "cbar.set_label('log of Value of Beta')\n",
    "\n",
    "\n",
    "ax.set_title('Scatter plot of dataset (in blue) and estimated mean (in red).'\n",
    "             ' One red point is one value estimated with the associated Beta.')\n",
    "\n",
    "plt.show()"
   ]
  },
  {
   "cell_type": "markdown",
   "metadata": {},
   "source": [
    "# Heavy tail illustration"
   ]
  },
  {
   "cell_type": "code",
   "execution_count": 8,
   "metadata": {},
   "outputs": [],
   "source": [
    "\n",
    "\n",
    "def geometric_median(X, eps=1e-5):\n",
    "    y = np.mean(X, 0)\n",
    "\n",
    "    while True:\n",
    "        D = cdist(X, [y])\n",
    "        nonzeros = (D != 0)[:, 0]\n",
    "\n",
    "        Dinv = 1 / D[nonzeros]\n",
    "        Dinvs = np.sum(Dinv)\n",
    "        W = Dinv / Dinvs\n",
    "        T = np.sum(W * X[nonzeros], 0)\n",
    "\n",
    "        num_zeros = len(X) - np.sum(nonzeros)\n",
    "        if num_zeros == 0:\n",
    "            y1 = T\n",
    "        elif num_zeros == len(X):\n",
    "            return y\n",
    "        else:\n",
    "            R = (T - y) * Dinvs\n",
    "            r = np.linalg.norm(R)\n",
    "            rinv = 0 if r == 0 else num_zeros/r\n",
    "            y1 = max(0, 1-rinv)*T + min(1, rinv)*y\n",
    "\n",
    "        if euclidean(y, y1) < eps:\n",
    "            return y1\n",
    "\n",
    "        y = y1\n",
    "        \n",
    "def pareto(df, n, d):\n",
    "    return (np.random.pareto(df, size=[n,d])+1)\n",
    "\n",
    "def gmom(X, K):\n",
    "    perm = np.random.permutation(len(X))\n",
    "    blocks = np.array_split(perm, K)\n",
    "    return geometric_median(np.array([np.mean(X[b], axis=0) for b in blocks]))"
   ]
  },
  {
   "cell_type": "code",
   "execution_count": 10,
   "metadata": {},
   "outputs": [
    {
     "name": "stdout",
     "output_type": "stream",
     "text": [
      "19"
     ]
    }
   ],
   "source": [
    "res = []\n",
    "alpha = 2.1\n",
    "power = 2\n",
    "n = 1000\n",
    "d = 100\n",
    "mean = alpha/(alpha -1)*np.ones(d)\n",
    "M = 20\n",
    "\n",
    "for iteration in range(M):\n",
    "    print(\"\\r\"+str(iteration), end=\"\" )\n",
    "    X = pareto(alpha, n, d)\n",
    "    X = np.vstack([X, 300*np.ones([2,d])])\n",
    "    res += [ [np.linalg.norm(M_estimator(X)-mean),\n",
    "              np.linalg.norm(M_estimator(X, name= \"Catoni\")-mean),\n",
    "              np.linalg.norm(M_estimator(X, name= \"Polynomial\", p=5)-mean),\n",
    "            np.linalg.norm(gmom(X, 9) - mean), \n",
    "            np.linalg.norm(geometric_median(X)-mean)]]"
   ]
  },
  {
   "cell_type": "code",
   "execution_count": 11,
   "metadata": {},
   "outputs": [
    {
     "data": {
      "text/plain": [
       "Text(0, 0.5, 'Error')"
      ]
     },
     "execution_count": 11,
     "metadata": {},
     "output_type": "execute_result"
    },
    {
     "data": {
      "image/png": "[encoded data removed]",
      "text/plain": [
       "<Figure size 432x288 with 1 Axes>"
      ]
     },
     "metadata": {
      "needs_background": "light"
     },
     "output_type": "display_data"
    }
   ],
   "source": [
    "plt.boxplot(np.array(res), labels= ['Huber', 'Catoni', 'Poly', \"gmom\", \"gmed\"])\n",
    "plt.ylabel('Error')"
   ]
  },
  {
   "cell_type": "code",
   "execution_count": null,
   "metadata": {},
   "outputs": [],
   "source": []
  }
 ],
 "metadata": {
  "kernelspec": {
   "display_name": "Python 3 (ipykernel)",
   "language": "python",
   "name": "python3"
  },
  "language_info": {
   "codemirror_mode": {
    "name": "ipython",
    "version": 3
   },
   "file_extension": ".py",
   "mimetype": "text/x-python",
   "name": "python",
   "nbconvert_exporter": "python",
   "pygments_lexer": "ipython3",
   "version": "3.9.6"
  },
  "toc": {
   "base_numbering": 1,
   "nav_menu": {},
   "number_sections": true,
   "sideBar": true,
   "skip_h1_title": false,
   "title_cell": "Table of Contents",
   "title_sidebar": "Contents",
   "toc_cell": false,
   "toc_position": {},
   "toc_section_display": true,
   "toc_window_display": false
  }
 },
 "nbformat": 4,
 "nbformat_minor": 4
}
