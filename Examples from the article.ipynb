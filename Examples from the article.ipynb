{
 "cells": [
  {
   "cell_type": "markdown",
   "metadata": {},
   "source": [
    "## Library import"
   ]
  },
  {
   "cell_type": "code",
   "execution_count": 1,
   "metadata": {},
   "outputs": [],
   "source": [
    "import time\n",
    "\n",
    "import numpy as np\n",
    "from scipy.stats import invwishart\n",
    "import matplotlib.pyplot as plt\n",
    "\n",
    "from multivariate_t import multivariate_t\n",
    "from huber_mean_estimation import huber"
   ]
  },
  {
   "cell_type": "markdown",
   "metadata": {},
   "source": [
    "# 1D experiments"
   ]
  },
  {
   "cell_type": "code",
   "execution_count": 2,
   "metadata": {},
   "outputs": [],
   "source": [
    "N=100\n",
    "\n",
    "def sample_corrupted_pareto(i):\n",
    "    rng=np.random.RandomState(i)\n",
    "    N_c = rng.binomial(N,0.05)\n",
    "    x= np.hstack([rng.pareto(5,size=N-N_c)+1 , 3*np.ones(N_c)]) \n",
    "    return x\n",
    "mean = 5/(5-1)"
   ]
  },
  {
   "cell_type": "code",
   "execution_count": 3,
   "metadata": {},
   "outputs": [
    {
     "data": {
      "image/png": "[encoded data removed]",
      "text/plain": [
       "<Figure size 432x288 with 1 Axes>"
      ]
     },
     "metadata": {
      "needs_background": "light"
     },
     "output_type": "display_data"
    }
   ],
   "source": [
    "plt.hist(sample_corrupted_pareto(0),bins=20)\n",
    "plt.title('Histogram of one sample of corrupted pareto dataset (Dataset 3 in the article)')\n",
    "plt.show()"
   ]
  },
  {
   "cell_type": "markdown",
   "metadata": {},
   "source": [
    "### The following cell is computationally expensive, run if you have the time.\n",
    "As an indication, it takes  1min10s on a 16-cores i9 cpu."
   ]
  },
  {
   "cell_type": "code",
   "execution_count": 4,
   "metadata": {},
   "outputs": [
    {
     "name": "stdout",
     "output_type": "stream",
     "text": [
      "Computation finished in  70.51 s\n"
     ]
    }
   ],
   "source": [
    "\n",
    "M=50\n",
    "n_jobs = -1 # Use all the cpu\n",
    "benchmark = huber(beta=0.46)\n",
    "lepski1 = huber(beta=None,grid=30, t=0.1, n_jobs = n_jobs)\n",
    "lepski2 = huber(beta=None,grid=30, t=1, n_jobs = n_jobs)\n",
    "lepski3 = huber(beta=None,grid=30, t=5, n_jobs = n_jobs)\n",
    "\n",
    "res=[]\n",
    "init_time=time.time()\n",
    "for f in range(M):\n",
    "    X = sample_corrupted_pareto(f)\n",
    "    \n",
    "    huber_chap1=lepski1.estimate(X)\n",
    "    \n",
    "    huber_chap2=lepski2.estimate(X)\n",
    "    \n",
    "    huber_chap3=lepski3.estimate(X) \n",
    "    \n",
    "    res+=[np.abs(np.array([np.median(X),benchmark.estimate(X), huber_chap1,huber_chap2, huber_chap3])-mean)]\n",
    "print('Computation finished in ', np.round(time.time()-init_time,2),'s')"
   ]
  },
  {
   "cell_type": "code",
   "execution_count": 5,
   "metadata": {},
   "outputs": [
    {
     "data": {
      "image/png": "[encoded data removed]",
      "text/plain": [
       "<Figure size 432x288 with 1 Axes>"
      ]
     },
     "metadata": {
      "needs_background": "light"
     },
     "output_type": "display_data"
    }
   ],
   "source": [
    "plt.boxplot(np.array(res))\n",
    "\n",
    "the_table = plt.table(cellText=[['%.2E' % s for s  in np.mean(np.array(res), axis=0)]],\n",
    "                      rowLabels=['MAE'],\n",
    "                      colLabels=[\"Median\",\"Benchmark\", \"Lepski, t=0.1\",\"Lepski, t=1\", \"Lepski, t=5\"],\n",
    "                      loc='bottom')\n",
    "plt.xticks([0], [''])\n",
    "plt.subplots_adjust(bottom=0.1)\n",
    "the_table.auto_set_font_size(False)\n",
    "the_table.set_fontsize(9)"
   ]
  },
  {
   "cell_type": "markdown",
   "metadata": {},
   "source": [
    "# MultiD experiments"
   ]
  },
  {
   "cell_type": "markdown",
   "metadata": {},
   "source": [
    "### Plot as dimension increases: illustration of minimax rates"
   ]
  },
  {
   "cell_type": "code",
   "execution_count": null,
   "metadata": {},
   "outputs": [
    {
     "name": "stderr",
     "output_type": "stream",
     "text": [
      " 95%|█████████▌| 21/22 [04:57<00:25, 25.79s/it]"
     ]
    }
   ],
   "source": [
    "N=50\n",
    "from tqdm import tqdm\n",
    "result=[]\n",
    "Dims = np.arange(50,10560, 500)\n",
    "for d in tqdm(Dims):\n",
    "    X = np.random.normal(size=[N,d])\n",
    "    for f in range(5):\n",
    "        X[-f]=np.random.normal(size=d)+10\n",
    "    Ds = np.logspace(-3,3, num=100)\n",
    "    res = []\n",
    "    for delta in Ds:\n",
    "        est = huber(delta, maxiter=100)\n",
    "        res += [np.linalg.norm(est.estimate(X))]\n",
    "    result += [np.min(res)]"
   ]
  },
  {
   "cell_type": "code",
   "execution_count": null,
   "metadata": {},
   "outputs": [],
   "source": [
    "t= np.log(1/0.05)\n",
    "plt.plot(Dims,result, label=\"Huber's estimator observed error\")\n",
    "plt.plot(Dims,np.sqrt(2*Dims/N+9*t/N), color=\"red\", label='95% Hanson Wright bound')\n",
    "plt.xlabel('$d$')\n",
    "plt.ylabel('Error')\n",
    "plt.legend()"
   ]
  },
  {
   "cell_type": "markdown",
   "metadata": {},
   "source": [
    "### Comparison to other estimators on a skewed, corrupted, high dimensional and heavy-tailed dataset."
   ]
  },
  {
   "cell_type": "code",
   "execution_count": null,
   "metadata": {},
   "outputs": [],
   "source": [
    "N=100\n",
    "d=200\n",
    "s=invwishart.rvs(d,np.eye(d), random_state=0)\n",
    "law = multivariate_t(shape=s, df = 3)"
   ]
  },
  {
   "cell_type": "code",
   "execution_count": null,
   "metadata": {},
   "outputs": [],
   "source": [
    "print(np.trace(s),np.max(np.linalg.eigvals(s)))"
   ]
  },
  {
   "cell_type": "code",
   "execution_count": null,
   "metadata": {},
   "outputs": [],
   "source": [
    "X = law.rvs(size=N)"
   ]
  },
  {
   "cell_type": "code",
   "execution_count": null,
   "metadata": {},
   "outputs": [],
   "source": [
    "s2=invwishart.rvs(4*d,np.eye(d))\n",
    "\n",
    "law2 = multivariate_t(mean = 0.5*np.ones(d),shape=s2, df = 4)\n",
    "Y = law2.rvs(size=N)\n",
    "eps = 0.4\n",
    "melange_eps = np.random.binomial(1,eps,size=N)==1   "
   ]
  },
  {
   "cell_type": "code",
   "execution_count": null,
   "metadata": {},
   "outputs": [],
   "source": [
    "# Mixture model\n",
    "M = np.zeros(X.shape)\n",
    "M[~melange_eps]=X[~melange_eps]\n",
    "M[melange_eps]=Y[melange_eps]\n",
    "# add outliers\n",
    "for f in range(2):\n",
    "    M[-f]=np.random.normal(size=d)+5\n",
    "mean = 0.5*eps*np.ones(d)"
   ]
  },
  {
   "cell_type": "code",
   "execution_count": null,
   "metadata": {},
   "outputs": [],
   "source": [
    "print(np.linalg.norm(np.mean(M,axis=0)-mean))\n",
    "print(np.linalg.norm(np.median(M,axis=0)-mean))"
   ]
  },
  {
   "cell_type": "code",
   "execution_count": null,
   "metadata": {},
   "outputs": [],
   "source": [
    "plt.scatter(M[:,0],M[:,1])"
   ]
  },
  {
   "cell_type": "code",
   "execution_count": null,
   "metadata": {},
   "outputs": [],
   "source": [
    "import seaborn as sns\n",
    "g = sns.jointplot(M[:,0],M[:,1], kind=\"kde\")\n",
    "g.plot_joint(plt.scatter, c=\"orange\", s=30, linewidth=1, marker=\"+\")"
   ]
  },
  {
   "cell_type": "code",
   "execution_count": null,
   "metadata": {},
   "outputs": [],
   "source": [
    "res=[]\n",
    "Ds = np.logspace(-3,3, num=200)\n",
    "import time\n",
    "for delta in Ds:\n",
    "    #a = time.time()\n",
    "    est = huber(delta, maxiter=200)\n",
    "    res += [np.linalg.norm(est.estimate(M)-mean)]\n",
    "    #print(time.time()-a)"
   ]
  },
  {
   "cell_type": "code",
   "execution_count": null,
   "metadata": {},
   "outputs": [],
   "source": [
    "plt.loglog(Ds,res)\n",
    "print(\"Minimum error obtained \" , np.min(res))"
   ]
  },
  {
   "cell_type": "code",
   "execution_count": null,
   "metadata": {},
   "outputs": [],
   "source": [
    "def coordinate_huber(x,delta):\n",
    "    est = huber(delta, maxiter=100)\n",
    "    return np.array([est.estimate(xx) for xx in x.T]).T\n",
    "res=[]\n",
    "for delta in Ds:\n",
    "    #a = time.time()\n",
    "    res += [np.linalg.norm(coordinate_huber(M,delta)-mean)]\n",
    "    #print(time.time()-a)"
   ]
  },
  {
   "cell_type": "code",
   "execution_count": null,
   "metadata": {},
   "outputs": [],
   "source": [
    "plt.loglog(Ds,res)\n",
    "print(\"Minimum error obtained \" , np.min(res))"
   ]
  },
  {
   "cell_type": "code",
   "execution_count": null,
   "metadata": {},
   "outputs": [],
   "source": []
  }
 ],
 "metadata": {
  "kernelspec": {
   "display_name": "Python 3",
   "language": "python",
   "name": "python3"
  },
  "language_info": {
   "codemirror_mode": {
    "name": "ipython",
    "version": 3
   },
   "file_extension": ".py",
   "mimetype": "text/x-python",
   "name": "python",
   "nbconvert_exporter": "python",
   "pygments_lexer": "ipython3",
   "version": "3.8.5"
  }
 },
 "nbformat": 4,
 "nbformat_minor": 4
}
